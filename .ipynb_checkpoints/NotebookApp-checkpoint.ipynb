{
 "cells": [
  {
   "cell_type": "code",
   "execution_count": 1,
   "metadata": {},
   "outputs": [],
   "source": [
    "from pyspark.sql import SparkSession\n",
    "from pyspark.sql.types import StructType,StructField, StringType, IntegerType\n",
    "from pyspark.sql.functions import col, isnan, when, count, concat, lit, substring\n",
    "import pyspark.sql.functions as F\n",
    "\n",
    "spark = SparkSession.builder.getOrCreate()"
   ]
  },
  {
   "cell_type": "code",
   "execution_count": 2,
   "metadata": {},
   "outputs": [
    {
     "data": {
      "text/html": [
       "\n",
       "            <div>\n",
       "                <p><b>SparkSession - in-memory</b></p>\n",
       "                \n",
       "        <div>\n",
       "            <p><b>SparkContext</b></p>\n",
       "\n",
       "            <p><a href=\"http://host.docker.internal:4040\">Spark UI</a></p>\n",
       "\n",
       "            <dl>\n",
       "              <dt>Version</dt>\n",
       "                <dd><code>v3.3.1</code></dd>\n",
       "              <dt>Master</dt>\n",
       "                <dd><code>local[*]</code></dd>\n",
       "              <dt>AppName</dt>\n",
       "                <dd><code>pyspark-shell</code></dd>\n",
       "            </dl>\n",
       "        </div>\n",
       "        \n",
       "            </div>\n",
       "        "
      ],
      "text/plain": [
       "<pyspark.sql.session.SparkSession at 0x1da3fa01188>"
      ]
     },
     "execution_count": 2,
     "metadata": {},
     "output_type": "execute_result"
    }
   ],
   "source": [
    "spark"
   ]
  },
  {
   "cell_type": "code",
   "execution_count": 3,
   "metadata": {},
   "outputs": [
    {
     "data": {
      "text/html": [
       "\n",
       "        <div>\n",
       "            <p><b>SparkContext</b></p>\n",
       "\n",
       "            <p><a href=\"http://host.docker.internal:4040\">Spark UI</a></p>\n",
       "\n",
       "            <dl>\n",
       "              <dt>Version</dt>\n",
       "                <dd><code>v3.3.1</code></dd>\n",
       "              <dt>Master</dt>\n",
       "                <dd><code>local[*]</code></dd>\n",
       "              <dt>AppName</dt>\n",
       "                <dd><code>pyspark-shell</code></dd>\n",
       "            </dl>\n",
       "        </div>\n",
       "        "
      ],
      "text/plain": [
       "<SparkContext master=local[*] appName=pyspark-shell>"
      ]
     },
     "execution_count": 3,
     "metadata": {},
     "output_type": "execute_result"
    }
   ],
   "source": [
    "spark.sparkContext"
   ]
  },
  {
   "cell_type": "markdown",
   "metadata": {},
   "source": [
    "# LOADING THE DATA"
   ]
  },
  {
   "cell_type": "markdown",
   "metadata": {},
   "source": [
    "### Create a schema for the DataFrame"
   ]
  },
  {
   "cell_type": "code",
   "execution_count": 4,
   "metadata": {},
   "outputs": [],
   "source": [
    "schema = StructType() \\\n",
    "    .add(\"Year\",IntegerType(),True) \\\n",
    "    .add(\"Month\",IntegerType(),True) \\\n",
    "    .add(\"DayofMonth\",IntegerType(),True) \\\n",
    "    .add(\"DayOfWeek\",IntegerType(),True) \\\n",
    "    .add(\"DepTime\",IntegerType(),True) \\\n",
    "    .add(\"CRSDepTime\",IntegerType(),True) \\\n",
    "    .add(\"ArrTime\",IntegerType(),True) \\\n",
    "    .add(\"CRSArrTime\",IntegerType(),True) \\\n",
    "    .add(\"UniqueCarrier\",StringType(),True) \\\n",
    "    .add(\"FlightNum\",IntegerType(),True) \\\n",
    "    .add(\"TailNum\",StringType(),True) \\\n",
    "    .add(\"ActualElapsedTime\",IntegerType(),True) \\\n",
    "    .add(\"CRSElapsedTime\",IntegerType(),True) \\\n",
    "    .add(\"AirTime\",IntegerType(),True) \\\n",
    "    .add(\"ArrDelay\",IntegerType(),True) \\\n",
    "    .add(\"DepDelay\",IntegerType(),True) \\\n",
    "    .add(\"Origin\",StringType(),True) \\\n",
    "    .add(\"Dest\",StringType(),True) \\\n",
    "    .add(\"Distance\",IntegerType(),True) \\\n",
    "    .add(\"TaxiIn\",IntegerType(),True) \\\n",
    "    .add(\"TaxiOut\",IntegerType(),True) \\\n",
    "    .add(\"Cancelled\",IntegerType(),True) \\\n",
    "    .add(\"CancellationCode\",StringType(),True) \\\n",
    "    .add(\"Diverted\",IntegerType(),True) \\\n",
    "    .add(\"CarrierDelay\",IntegerType(),True) \\\n",
    "    .add(\"WeatherDelay\",IntegerType(),True) \\\n",
    "    .add(\"NASDelay\",IntegerType(),True) \\\n",
    "    .add(\"SecurityDelay\",IntegerType(),True) \\\n",
    "    .add(\"LateAircraftDelay\",IntegerType(),True)"
   ]
  },
  {
   "cell_type": "markdown",
   "metadata": {},
   "source": [
    "### Load data into DataFrame"
   ]
  },
  {
   "cell_type": "code",
   "execution_count": 5,
   "metadata": {},
   "outputs": [],
   "source": [
    "df = spark.read.format('csv') \\\n",
    "      .option('header', True) \\\n",
    "      .schema(schema) \\\n",
    "      .load('src/main/resources/2008.csv.bz2')"
   ]
  },
  {
   "cell_type": "markdown",
   "metadata": {},
   "source": [
    "### Remove forbidden variables"
   ]
  },
  {
   "cell_type": "code",
   "execution_count": 6,
   "metadata": {},
   "outputs": [],
   "source": [
    "df = df.drop(\"ArrTime\").drop(\"ActualElapsedTime\"\n",
    "        ).drop(\"AirTime\").drop(\"TaxiIn\").drop(\"Diverted\"\n",
    "        ).drop(\"CarrierDelay\").drop(\"WeatherDelay\").drop(\"NASDelay\"\n",
    "        ).drop(\"SecurityDelay\").drop(\"LateAircraftDelay\")"
   ]
  },
  {
   "cell_type": "code",
   "execution_count": 7,
   "metadata": {
    "scrolled": false
   },
   "outputs": [
    {
     "name": "stdout",
     "output_type": "stream",
     "text": [
      "root\n",
      " |-- Year: integer (nullable = true)\n",
      " |-- Month: integer (nullable = true)\n",
      " |-- DayofMonth: integer (nullable = true)\n",
      " |-- DayOfWeek: integer (nullable = true)\n",
      " |-- DepTime: integer (nullable = true)\n",
      " |-- CRSDepTime: integer (nullable = true)\n",
      " |-- CRSArrTime: integer (nullable = true)\n",
      " |-- UniqueCarrier: string (nullable = true)\n",
      " |-- FlightNum: integer (nullable = true)\n",
      " |-- TailNum: string (nullable = true)\n",
      " |-- CRSElapsedTime: integer (nullable = true)\n",
      " |-- ArrDelay: integer (nullable = true)\n",
      " |-- DepDelay: integer (nullable = true)\n",
      " |-- Origin: string (nullable = true)\n",
      " |-- Dest: string (nullable = true)\n",
      " |-- Distance: integer (nullable = true)\n",
      " |-- TaxiOut: integer (nullable = true)\n",
      " |-- Cancelled: integer (nullable = true)\n",
      " |-- CancellationCode: string (nullable = true)\n",
      "\n"
     ]
    }
   ],
   "source": [
    "df.printSchema()"
   ]
  },
  {
   "cell_type": "code",
   "execution_count": 8,
   "metadata": {
    "scrolled": false
   },
   "outputs": [
    {
     "name": "stdout",
     "output_type": "stream",
     "text": [
      "+----+-----+----------+---------+-------+----------+----------+-------------+---------+-------+--------------+--------+--------+------+----+--------+-------+---------+----------------+\n",
      "|Year|Month|DayofMonth|DayOfWeek|DepTime|CRSDepTime|CRSArrTime|UniqueCarrier|FlightNum|TailNum|CRSElapsedTime|ArrDelay|DepDelay|Origin|Dest|Distance|TaxiOut|Cancelled|CancellationCode|\n",
      "+----+-----+----------+---------+-------+----------+----------+-------------+---------+-------+--------------+--------+--------+------+----+--------+-------+---------+----------------+\n",
      "|2008|1    |3         |4        |1343   |1325      |1435      |WN           |588      |N240WN |70            |16      |18      |HOU   |LIT |393     |9      |0        |null            |\n",
      "|2008|1    |3         |4        |1125   |1120      |1245      |WN           |1343     |N523SW |85            |2       |5       |HOU   |MAF |441     |8      |0        |null            |\n",
      "|2008|1    |3         |4        |2009   |2015      |2140      |WN           |3841     |N280WN |85            |-4      |-6      |HOU   |MAF |441     |14     |0        |null            |\n",
      "|2008|1    |3         |4        |903    |855       |1205      |WN           |3        |N308SA |130           |-2      |8       |HOU   |MCO |848     |7      |0        |null            |\n",
      "|2008|1    |3         |4        |1423   |1400      |1710      |WN           |25       |N462WN |130           |16      |23      |HOU   |MCO |848     |10     |0        |null            |\n",
      "+----+-----+----------+---------+-------+----------+----------+-------------+---------+-------+--------------+--------+--------+------+----+--------+-------+---------+----------------+\n",
      "only showing top 5 rows\n",
      "\n"
     ]
    }
   ],
   "source": [
    "df.show(5, False)"
   ]
  },
  {
   "cell_type": "markdown",
   "metadata": {},
   "source": [
    "# PROCESSING THE DATA"
   ]
  },
  {
   "cell_type": "code",
   "execution_count": 9,
   "metadata": {},
   "outputs": [
    {
     "data": {
      "text/plain": [
       "2389217"
      ]
     },
     "execution_count": 9,
     "metadata": {},
     "output_type": "execute_result"
    }
   ],
   "source": [
    "df.count()"
   ]
  },
  {
   "cell_type": "markdown",
   "metadata": {},
   "source": [
    "### Remove duplicated rows"
   ]
  },
  {
   "cell_type": "code",
   "execution_count": 10,
   "metadata": {},
   "outputs": [],
   "source": [
    "df = df.distinct()"
   ]
  },
  {
   "cell_type": "code",
   "execution_count": 11,
   "metadata": {},
   "outputs": [
    {
     "name": "stdout",
     "output_type": "stream",
     "text": [
      "+----+-----+----------+---------+-------+----------+----------+-------------+---------+-------+--------------+--------+--------+------+----+--------+-------+---------+----------------+-----+\n",
      "|Year|Month|DayofMonth|DayOfWeek|DepTime|CRSDepTime|CRSArrTime|UniqueCarrier|FlightNum|TailNum|CRSElapsedTime|ArrDelay|DepDelay|Origin|Dest|Distance|TaxiOut|Cancelled|CancellationCode|count|\n",
      "+----+-----+----------+---------+-------+----------+----------+-------------+---------+-------+--------------+--------+--------+------+----+--------+-------+---------+----------------+-----+\n",
      "+----+-----+----------+---------+-------+----------+----------+-------------+---------+-------+--------------+--------+--------+------+----+--------+-------+---------+----------------+-----+\n",
      "\n"
     ]
    }
   ],
   "source": [
    "df.groupBy(df.columns).count().filter(\"count > 1\").show()"
   ]
  },
  {
   "cell_type": "markdown",
   "metadata": {},
   "source": [
    "### Remove instances of cancelled flights"
   ]
  },
  {
   "cell_type": "code",
   "execution_count": 12,
   "metadata": {},
   "outputs": [],
   "source": [
    "df = df.filter(df.Cancelled == 0)"
   ]
  },
  {
   "cell_type": "code",
   "execution_count": 13,
   "metadata": {},
   "outputs": [
    {
     "name": "stdout",
     "output_type": "stream",
     "text": [
      "+----+-----+----------+---------+-------+----------+----------+-------------+---------+-------+--------------+--------+--------+------+----+--------+-------+---------+----------------+\n",
      "|Year|Month|DayofMonth|DayOfWeek|DepTime|CRSDepTime|CRSArrTime|UniqueCarrier|FlightNum|TailNum|CRSElapsedTime|ArrDelay|DepDelay|Origin|Dest|Distance|TaxiOut|Cancelled|CancellationCode|\n",
      "+----+-----+----------+---------+-------+----------+----------+-------------+---------+-------+--------------+--------+--------+------+----+--------+-------+---------+----------------+\n",
      "+----+-----+----------+---------+-------+----------+----------+-------------+---------+-------+--------------+--------+--------+------+----+--------+-------+---------+----------------+\n",
      "\n"
     ]
    }
   ],
   "source": [
    "df.filter(df.Cancelled == 1).show()"
   ]
  },
  {
   "cell_type": "markdown",
   "metadata": {},
   "source": [
    "## Analyze missing values"
   ]
  },
  {
   "cell_type": "code",
   "execution_count": 14,
   "metadata": {},
   "outputs": [
    {
     "name": "stdout",
     "output_type": "stream",
     "text": [
      "+----+-----+----------+---------+-------+----------+----------+-------------+---------+-------+--------------+--------+--------+------+----+--------+-------+---------+----------------+\n",
      "|Year|Month|DayofMonth|DayOfWeek|DepTime|CRSDepTime|CRSArrTime|UniqueCarrier|FlightNum|TailNum|CRSElapsedTime|ArrDelay|DepDelay|Origin|Dest|Distance|TaxiOut|Cancelled|CancellationCode|\n",
      "+----+-----+----------+---------+-------+----------+----------+-------------+---------+-------+--------------+--------+--------+------+----+--------+-------+---------+----------------+\n",
      "|   0|    0|         0|        0|      0|         0|         0|            0|        0|      3|           288|    5654|       0|     0|   0|       0|      0|        0|         2324771|\n",
      "+----+-----+----------+---------+-------+----------+----------+-------------+---------+-------+--------------+--------+--------+------+----+--------+-------+---------+----------------+\n",
      "\n"
     ]
    }
   ],
   "source": [
    "# con Scala aparecen más nulos\n",
    "df.select([count(when(isnan(c) | col(c).isNull(), c)).alias(c) for c in df.columns]\n",
    "   ).show()"
   ]
  },
  {
   "cell_type": "markdown",
   "metadata": {},
   "source": [
    "#### CancellationCode has more than 97% missing so it is removed"
   ]
  },
  {
   "cell_type": "code",
   "execution_count": 15,
   "metadata": {},
   "outputs": [],
   "source": [
    "df = df.drop(df.CancellationCode)"
   ]
  },
  {
   "cell_type": "markdown",
   "metadata": {},
   "source": [
    "#### TailNum and CRSElapsedTime can not be imputed from any other column, and ArrDelay is the target variable, but their number of missing values is not significant taking into account the total number, so the rows containing those missing values are removed"
   ]
  },
  {
   "cell_type": "code",
   "execution_count": 16,
   "metadata": {},
   "outputs": [],
   "source": [
    "df = df.na.drop()"
   ]
  },
  {
   "cell_type": "code",
   "execution_count": 17,
   "metadata": {},
   "outputs": [
    {
     "data": {
      "text/plain": [
       "2319115"
      ]
     },
     "execution_count": 17,
     "metadata": {},
     "output_type": "execute_result"
    }
   ],
   "source": [
    "df.count()"
   ]
  },
  {
   "cell_type": "markdown",
   "metadata": {},
   "source": [
    "## Unique values of the variables"
   ]
  },
  {
   "cell_type": "code",
   "execution_count": 19,
   "metadata": {
    "scrolled": true
   },
   "outputs": [
    {
     "name": "stdout",
     "output_type": "stream",
     "text": [
      "+----+\n",
      "|Year|\n",
      "+----+\n",
      "|2008|\n",
      "+----+\n",
      "\n",
      "+-----+\n",
      "|Month|\n",
      "+-----+\n",
      "|    1|\n",
      "|    2|\n",
      "|    3|\n",
      "|    4|\n",
      "+-----+\n",
      "\n",
      "+----------+\n",
      "|DayofMonth|\n",
      "+----------+\n",
      "|        31|\n",
      "|        28|\n",
      "|        26|\n",
      "|        27|\n",
      "|        12|\n",
      "|        22|\n",
      "|         1|\n",
      "|        13|\n",
      "|         6|\n",
      "|        16|\n",
      "|         3|\n",
      "|        20|\n",
      "|         5|\n",
      "|        19|\n",
      "|        15|\n",
      "|         9|\n",
      "|        17|\n",
      "|         4|\n",
      "|         8|\n",
      "|        23|\n",
      "+----------+\n",
      "only showing top 20 rows\n",
      "\n",
      "+---------+\n",
      "|DayOfWeek|\n",
      "+---------+\n",
      "|        1|\n",
      "|        6|\n",
      "|        3|\n",
      "|        5|\n",
      "|        4|\n",
      "|        7|\n",
      "|        2|\n",
      "+---------+\n",
      "\n",
      "+-------+\n",
      "|DepTime|\n",
      "+-------+\n",
      "|   1829|\n",
      "|   1238|\n",
      "|    833|\n",
      "|   1645|\n",
      "|   2142|\n",
      "|   1959|\n",
      "|   2122|\n",
      "|   1342|\n",
      "|    148|\n",
      "|   1127|\n",
      "|   1522|\n",
      "|    623|\n",
      "|    737|\n",
      "|   2235|\n",
      "|    858|\n",
      "|   1507|\n",
      "|   1721|\n",
      "|   1025|\n",
      "|    540|\n",
      "|   1903|\n",
      "+-------+\n",
      "only showing top 20 rows\n",
      "\n",
      "+----------+\n",
      "|CRSDepTime|\n",
      "+----------+\n",
      "|      1645|\n",
      "|      1959|\n",
      "|      1829|\n",
      "|      1238|\n",
      "|      1342|\n",
      "|       833|\n",
      "|      2122|\n",
      "|      2142|\n",
      "|       148|\n",
      "|      1025|\n",
      "|      2235|\n",
      "|       623|\n",
      "|       540|\n",
      "|      1522|\n",
      "|      1127|\n",
      "|      1721|\n",
      "|       858|\n",
      "|      1507|\n",
      "|       737|\n",
      "|      1650|\n",
      "+----------+\n",
      "only showing top 20 rows\n",
      "\n",
      "+----------+\n",
      "|CRSArrTime|\n",
      "+----------+\n",
      "|      1645|\n",
      "|      2142|\n",
      "|      1342|\n",
      "|      2122|\n",
      "|      1829|\n",
      "|      1959|\n",
      "|       833|\n",
      "|      1238|\n",
      "|       148|\n",
      "|      2235|\n",
      "|      1025|\n",
      "|       858|\n",
      "|      1507|\n",
      "|       737|\n",
      "|      1127|\n",
      "|      1721|\n",
      "|      1522|\n",
      "|       623|\n",
      "|       540|\n",
      "|      1650|\n",
      "+----------+\n",
      "only showing top 20 rows\n",
      "\n",
      "+-------------+\n",
      "|UniqueCarrier|\n",
      "+-------------+\n",
      "|           UA|\n",
      "|           EV|\n",
      "|           DL|\n",
      "|           OO|\n",
      "|           YV|\n",
      "|           US|\n",
      "|           OH|\n",
      "|           XE|\n",
      "|           WN|\n",
      "|           AA|\n",
      "|           NW|\n",
      "|           B6|\n",
      "|           F9|\n",
      "|           AQ|\n",
      "|           MQ|\n",
      "|           HA|\n",
      "|           AS|\n",
      "|           FL|\n",
      "|           CO|\n",
      "|           9E|\n",
      "+-------------+\n",
      "\n",
      "+---------+\n",
      "|FlightNum|\n",
      "+---------+\n",
      "|     1580|\n",
      "|      463|\n",
      "|     2366|\n",
      "|      496|\n",
      "|     3918|\n",
      "|      833|\n",
      "|     1829|\n",
      "|      148|\n",
      "|     2866|\n",
      "|      471|\n",
      "|     1238|\n",
      "|     1342|\n",
      "|     3749|\n",
      "|     1088|\n",
      "|     1591|\n",
      "|     2122|\n",
      "|     7754|\n",
      "|     2659|\n",
      "|     2142|\n",
      "|     7240|\n",
      "+---------+\n",
      "only showing top 20 rows\n",
      "\n",
      "+-------+\n",
      "|TailNum|\n",
      "+-------+\n",
      "| N672SW|\n",
      "| N866AS|\n",
      "| N466SW|\n",
      "| N919UA|\n",
      "| N516UA|\n",
      "| N513UA|\n",
      "| N102UW|\n",
      "| N902DE|\n",
      "|  N6700|\n",
      "| N388DA|\n",
      "| N251WN|\n",
      "| N445WN|\n",
      "| N496WN|\n",
      "| N622SW|\n",
      "| N13118|\n",
      "| N10575|\n",
      "| N517UA|\n",
      "| N835UA|\n",
      "| N318UA|\n",
      "| N654AW|\n",
      "+-------+\n",
      "only showing top 20 rows\n",
      "\n",
      "+--------------+\n",
      "|CRSElapsedTime|\n",
      "+--------------+\n",
      "|           148|\n",
      "|           471|\n",
      "|           243|\n",
      "|           392|\n",
      "|            31|\n",
      "|            85|\n",
      "|           137|\n",
      "|           251|\n",
      "|            65|\n",
      "|           255|\n",
      "|            53|\n",
      "|           133|\n",
      "|           296|\n",
      "|            78|\n",
      "|           322|\n",
      "|           321|\n",
      "|           362|\n",
      "|           375|\n",
      "|           597|\n",
      "|           155|\n",
      "+--------------+\n",
      "only showing top 20 rows\n",
      "\n",
      "+--------+\n",
      "|ArrDelay|\n",
      "+--------+\n",
      "|     148|\n",
      "|     463|\n",
      "|     -35|\n",
      "|     243|\n",
      "|     392|\n",
      "|      31|\n",
      "|     137|\n",
      "|      85|\n",
      "|     251|\n",
      "|     451|\n",
      "|      65|\n",
      "|     458|\n",
      "|      53|\n",
      "|     255|\n",
      "|     133|\n",
      "|     296|\n",
      "|      78|\n",
      "|     322|\n",
      "|     362|\n",
      "|     321|\n",
      "+--------+\n",
      "only showing top 20 rows\n",
      "\n",
      "+--------+\n",
      "|DepDelay|\n",
      "+--------+\n",
      "|     148|\n",
      "|     496|\n",
      "|     463|\n",
      "|     243|\n",
      "|     -35|\n",
      "|     392|\n",
      "|      31|\n",
      "|     516|\n",
      "|      85|\n",
      "|     137|\n",
      "|     251|\n",
      "|     580|\n",
      "|      65|\n",
      "|     458|\n",
      "|      53|\n",
      "|     255|\n",
      "|     133|\n",
      "|     296|\n",
      "|     472|\n",
      "|      78|\n",
      "+--------+\n",
      "only showing top 20 rows\n",
      "\n",
      "+------+\n",
      "|Origin|\n",
      "+------+\n",
      "|   MSY|\n",
      "|   GEG|\n",
      "|   SNA|\n",
      "|   BUR|\n",
      "|   GRB|\n",
      "|   GTF|\n",
      "|   IDA|\n",
      "|   GRR|\n",
      "|   EUG|\n",
      "|   PVD|\n",
      "|   GSO|\n",
      "|   MYR|\n",
      "|   OAK|\n",
      "|   MSN|\n",
      "|   COD|\n",
      "|   BTM|\n",
      "|   FAR|\n",
      "|   FSM|\n",
      "|   DCA|\n",
      "|   RFD|\n",
      "+------+\n",
      "only showing top 20 rows\n",
      "\n",
      "+----+\n",
      "|Dest|\n",
      "+----+\n",
      "| MSY|\n",
      "| GEG|\n",
      "| BUR|\n",
      "| SNA|\n",
      "| GRB|\n",
      "| GTF|\n",
      "| IDA|\n",
      "| GRR|\n",
      "| EUG|\n",
      "| PVD|\n",
      "| GSO|\n",
      "| MYR|\n",
      "| OAK|\n",
      "| MSN|\n",
      "| COD|\n",
      "| BTM|\n",
      "| FAR|\n",
      "| DCA|\n",
      "| RFD|\n",
      "| MLU|\n",
      "+----+\n",
      "only showing top 20 rows\n",
      "\n",
      "+--------+\n",
      "|Distance|\n",
      "+--------+\n",
      "|    1591|\n",
      "|     471|\n",
      "|    1959|\n",
      "|     833|\n",
      "|     496|\n",
      "|    1342|\n",
      "|     148|\n",
      "|     463|\n",
      "|    1829|\n",
      "|    1088|\n",
      "|     737|\n",
      "|     540|\n",
      "|     392|\n",
      "|     623|\n",
      "|    1522|\n",
      "|    1084|\n",
      "|    1721|\n",
      "|    1460|\n",
      "|    1618|\n",
      "|    1352|\n",
      "+--------+\n",
      "only showing top 20 rows\n",
      "\n",
      "+-------+\n",
      "|TaxiOut|\n",
      "+-------+\n",
      "|    148|\n",
      "|     31|\n",
      "|     85|\n",
      "|    137|\n",
      "|    251|\n",
      "|     65|\n",
      "|     53|\n",
      "|    133|\n",
      "|     78|\n",
      "|    108|\n",
      "|    155|\n",
      "|     34|\n",
      "|    193|\n",
      "|    101|\n",
      "|    115|\n",
      "|    126|\n",
      "|     81|\n",
      "|     28|\n",
      "|    183|\n",
      "|    300|\n",
      "+-------+\n",
      "only showing top 20 rows\n",
      "\n",
      "+---------+\n",
      "|Cancelled|\n",
      "+---------+\n",
      "|        0|\n",
      "+---------+\n",
      "\n"
     ]
    }
   ],
   "source": [
    "df.select(\"Year\").distinct().show()\n",
    "df.select(\"Month\").distinct().show()\n",
    "df.select(\"DayofMonth\").distinct().show()\n",
    "df.select(\"DayOfWeek\").distinct().show()\n",
    "df.select(\"DepTime\").distinct().show()\n",
    "df.select(\"CRSDepTime\").distinct().show()\n",
    "df.select(\"CRSArrTime\").distinct().show()\n",
    "df.select(\"UniqueCarrier\").distinct().show()\n",
    "df.select(\"FlightNum\").distinct().show()\n",
    "df.select(\"TailNum\").distinct().show()\n",
    "df.select(\"CRSElapsedTime\").distinct().show()\n",
    "df.select(\"ArrDelay\").distinct().show()\n",
    "df.select(\"DepDelay\").distinct().show()\n",
    "df.select(\"Origin\").distinct().show()\n",
    "df.select(\"Dest\").distinct().show()\n",
    "df.select(\"Distance\").distinct().show()\n",
    "df.select(\"TaxiOut\").distinct().show()\n",
    "df.select(\"Cancelled\").distinct().show()"
   ]
  },
  {
   "cell_type": "code",
   "execution_count": null,
   "metadata": {},
   "outputs": [],
   "source": [
    "# Month: 1, 2, 3, ... to January, February, March, ...?\n",
    "# Merge Day+Month+Year in one?\n",
    "# DayOfWeek: 1, 2, ... to Monday, Tuesday, ...?\n",
    "# Que es TaxiOut?"
   ]
  },
  {
   "cell_type": "markdown",
   "metadata": {},
   "source": [
    "### Fix format of time variables"
   ]
  },
  {
   "cell_type": "code",
   "execution_count": 20,
   "metadata": {},
   "outputs": [],
   "source": [
    "df = df.withColumn(\"DepTimeNew\", when(F.length(df.DepTime) == 3, concat(lit(\"0\"),df.DepTime)) \\\n",
    "        .when(F.length(df.DepTime) == 2, concat(lit(\"00\"),df.DepTime)) \\\n",
    "        .otherwise(df.DepTime))"
   ]
  },
  {
   "cell_type": "code",
   "execution_count": 21,
   "metadata": {},
   "outputs": [],
   "source": [
    "df = df.withColumn(\"CRSDepTimeNew\", when(F.length(df.CRSDepTime) == 3, concat(lit(\"0\"),df.CRSDepTime)) \\\n",
    "        .when(F.length(df.CRSDepTime) == 2, concat(lit(\"00\"),df.CRSDepTime)) \\\n",
    "        .otherwise(df.CRSDepTime))"
   ]
  },
  {
   "cell_type": "code",
   "execution_count": 22,
   "metadata": {},
   "outputs": [],
   "source": [
    "df = df.withColumn(\"CRSArrTimeNew\", when(F.length(df.CRSArrTime) == 3, concat(lit(\"0\"),df.CRSArrTime)) \\\n",
    "        .when(F.length(df.CRSArrTime) == 2, concat(lit(\"00\"),df.CRSArrTime)) \\\n",
    "        .otherwise(df.CRSArrTime))"
   ]
  },
  {
   "cell_type": "code",
   "execution_count": 23,
   "metadata": {
    "scrolled": false
   },
   "outputs": [
    {
     "name": "stdout",
     "output_type": "stream",
     "text": [
      "+-------+----------+----------+-------------+----------+-------------+\n",
      "|DepTime|DepTimeNew|CRSDepTime|CRSDepTimeNew|CRSArrTime|CRSArrTimeNew|\n",
      "+-------+----------+----------+-------------+----------+-------------+\n",
      "|    813|      0813|       810|         0810|       925|         0925|\n",
      "|   1210|      1210|      1200|         1200|      1325|         1325|\n",
      "|   2154|      2154|      1829|         1829|      1930|         1930|\n",
      "|   1940|      1940|      1950|         1950|      2108|         2108|\n",
      "|   2300|      2300|      2005|         2005|      2055|         2055|\n",
      "|   2045|      2045|      2019|         2019|      2212|         2212|\n",
      "|    607|      0607|       600|         0600|       706|         0706|\n",
      "|    747|      0747|       750|         0750|       955|         0955|\n",
      "|   1155|      1155|      1155|         1155|      1249|         1249|\n",
      "|   1224|      1224|      1225|         1225|      1330|         1330|\n",
      "|   1225|      1225|      1235|         1235|      1309|         1309|\n",
      "|   1417|      1417|      1415|         1415|      1510|         1510|\n",
      "|   1451|      1451|      1455|         1455|      1635|         1635|\n",
      "|   1558|      1558|      1600|         1600|      1725|         1725|\n",
      "|   1739|      1739|      1730|         1730|      1845|         1845|\n",
      "|   1757|      1757|      1800|         1800|      1915|         1915|\n",
      "|   1904|      1904|      1855|         1855|      2056|         2056|\n",
      "|   2016|      2016|      2020|         2020|      2245|         2245|\n",
      "|   2044|      2044|      2050|         2050|      2315|         2315|\n",
      "|   2116|      2116|      2120|         2120|      2135|         2135|\n",
      "+-------+----------+----------+-------------+----------+-------------+\n",
      "only showing top 20 rows\n",
      "\n"
     ]
    }
   ],
   "source": [
    "df.select(\"DepTime\",\"DepTimeNew\",\"CRSDepTime\",\"CRSDepTimeNew\",\"CRSArrTime\",\"CRSArrTimeNew\").show()"
   ]
  },
  {
   "cell_type": "code",
   "execution_count": 33,
   "metadata": {},
   "outputs": [],
   "source": [
    "df = df.drop(\"DepTime\",\"CRSDepTime\",\"CRSArrTime\")"
   ]
  },
  {
   "cell_type": "markdown",
   "metadata": {},
   "source": [
    "### Concordancy between related variables"
   ]
  },
  {
   "cell_type": "markdown",
   "metadata": {},
   "source": [
    "#### Check that DepDelay = DepTime - CRSDepTime"
   ]
  },
  {
   "cell_type": "code",
   "execution_count": 24,
   "metadata": {},
   "outputs": [
    {
     "name": "stdout",
     "output_type": "stream",
     "text": [
      "+----------+-------------+--------+\n",
      "|DepTimeNew|CRSDepTimeNew|DepDelay|\n",
      "+----------+-------------+--------+\n",
      "|      0813|         0810|       3|\n",
      "|      1210|         1200|      10|\n",
      "|      2154|         1829|     205|\n",
      "|      1940|         1950|     -10|\n",
      "|      2300|         2005|     175|\n",
      "|      2045|         2019|      26|\n",
      "|      0607|         0600|       7|\n",
      "|      0747|         0750|      -3|\n",
      "|      1155|         1155|       0|\n",
      "|      1224|         1225|      -1|\n",
      "|      1225|         1235|     -10|\n",
      "|      1417|         1415|       2|\n",
      "|      1451|         1455|      -4|\n",
      "|      1558|         1600|      -2|\n",
      "|      1739|         1730|       9|\n",
      "|      1757|         1800|      -3|\n",
      "|      1904|         1855|       9|\n",
      "|      2016|         2020|      -4|\n",
      "|      2044|         2050|      -6|\n",
      "|      2116|         2120|      -4|\n",
      "+----------+-------------+--------+\n",
      "only showing top 20 rows\n",
      "\n"
     ]
    }
   ],
   "source": [
    "df.select(\"DepTimeNew\",\"CRSDepTimeNew\",\"DepDelay\").show()"
   ]
  },
  {
   "cell_type": "code",
   "execution_count": 25,
   "metadata": {},
   "outputs": [],
   "source": [
    "df = df.withColumn(\"CRSDepTimeNewHour\", substring(df.CRSDepTimeNew, 1,2)) \\\n",
    "    .withColumn(\"CRSDepTimeNewMinute\", substring(df.CRSDepTimeNew, 3,2)) \\\n",
    "    .withColumn(\"DepTimeNewHour\", substring(df.DepTimeNew, 1,2)) \\\n",
    "    .withColumn(\"DepTimeNewMinute\", substring(df.DepTimeNew, 3,2))"
   ]
  },
  {
   "cell_type": "code",
   "execution_count": 26,
   "metadata": {},
   "outputs": [
    {
     "name": "stdout",
     "output_type": "stream",
     "text": [
      "+-------------+-----------------+-------------------+----------+--------------+----------------+\n",
      "|CRSDepTimeNew|CRSDepTimeNewHour|CRSDepTimeNewMinute|DepTimeNew|DepTimeNewHour|DepTimeNewMinute|\n",
      "+-------------+-----------------+-------------------+----------+--------------+----------------+\n",
      "|         0810|               08|                 10|      0813|            08|              13|\n",
      "|         1200|               12|                 00|      1210|            12|              10|\n",
      "|         1829|               18|                 29|      2154|            21|              54|\n",
      "|         1950|               19|                 50|      1940|            19|              40|\n",
      "|         2005|               20|                 05|      2300|            23|              00|\n",
      "|         2019|               20|                 19|      2045|            20|              45|\n",
      "|         0600|               06|                 00|      0607|            06|              07|\n",
      "|         0750|               07|                 50|      0747|            07|              47|\n",
      "|         1155|               11|                 55|      1155|            11|              55|\n",
      "|         1225|               12|                 25|      1224|            12|              24|\n",
      "|         1235|               12|                 35|      1225|            12|              25|\n",
      "|         1415|               14|                 15|      1417|            14|              17|\n",
      "|         1455|               14|                 55|      1451|            14|              51|\n",
      "|         1600|               16|                 00|      1558|            15|              58|\n",
      "|         1730|               17|                 30|      1739|            17|              39|\n",
      "|         1800|               18|                 00|      1757|            17|              57|\n",
      "|         1855|               18|                 55|      1904|            19|              04|\n",
      "|         2020|               20|                 20|      2016|            20|              16|\n",
      "|         2050|               20|                 50|      2044|            20|              44|\n",
      "|         2120|               21|                 20|      2116|            21|              16|\n",
      "+-------------+-----------------+-------------------+----------+--------------+----------------+\n",
      "only showing top 20 rows\n",
      "\n"
     ]
    }
   ],
   "source": [
    "df.select(\"CRSDepTimeNew\",\"CRSDepTimeNewHour\",\"CRSDepTimeNewMinute\",\"DepTimeNew\",\"DepTimeNewHour\",\"DepTimeNewMinute\").show()"
   ]
  },
  {
   "cell_type": "code",
   "execution_count": 27,
   "metadata": {},
   "outputs": [],
   "source": [
    "df = df.withColumn(\"DepDelayNew\", (col(\"DepTimeNewHour\") - col(\"CRSDepTimeNewHour\"))*60 - col(\"CRSDepTimeNewMinute\") + col(\"DepTimeNewMinute\"))"
   ]
  },
  {
   "cell_type": "code",
   "execution_count": 28,
   "metadata": {},
   "outputs": [],
   "source": [
    "df = df.withColumn(\"DepDelayNew\",col(\"DepDelayNew\").cast(IntegerType()))"
   ]
  },
  {
   "cell_type": "code",
   "execution_count": 29,
   "metadata": {},
   "outputs": [
    {
     "name": "stdout",
     "output_type": "stream",
     "text": [
      "+----------+-------------+--------+-----------+\n",
      "|DepTimeNew|CRSDepTimeNew|DepDelay|DepDelayNew|\n",
      "+----------+-------------+--------+-----------+\n",
      "|      0813|         0810|       3|          3|\n",
      "|      1210|         1200|      10|         10|\n",
      "|      2154|         1829|     205|        205|\n",
      "|      1940|         1950|     -10|        -10|\n",
      "|      2300|         2005|     175|        175|\n",
      "|      2045|         2019|      26|         26|\n",
      "|      0607|         0600|       7|          7|\n",
      "|      0747|         0750|      -3|         -3|\n",
      "|      1155|         1155|       0|          0|\n",
      "|      1224|         1225|      -1|         -1|\n",
      "|      1225|         1235|     -10|        -10|\n",
      "|      1417|         1415|       2|          2|\n",
      "|      1451|         1455|      -4|         -4|\n",
      "|      1558|         1600|      -2|         -2|\n",
      "|      1739|         1730|       9|          9|\n",
      "|      1757|         1800|      -3|         -3|\n",
      "|      1904|         1855|       9|          9|\n",
      "|      2016|         2020|      -4|         -4|\n",
      "|      2044|         2050|      -6|         -6|\n",
      "|      2116|         2120|      -4|         -4|\n",
      "+----------+-------------+--------+-----------+\n",
      "only showing top 20 rows\n",
      "\n"
     ]
    }
   ],
   "source": [
    "df.select(\"DepTimeNew\",\"CRSDepTimeNew\",\"DepDelay\",\"DepDelayNew\").show()"
   ]
  },
  {
   "cell_type": "code",
   "execution_count": 30,
   "metadata": {},
   "outputs": [],
   "source": [
    "# salen mal los valores que se pasan de 00:00\n",
    "df_wrong = df.filter(df.DepDelay != df.DepDelayNew)"
   ]
  },
  {
   "cell_type": "code",
   "execution_count": 31,
   "metadata": {},
   "outputs": [
    {
     "name": "stdout",
     "output_type": "stream",
     "text": [
      "+----------+-------------+--------+-----------+\n",
      "|DepTimeNew|CRSDepTimeNew|DepDelay|DepDelayNew|\n",
      "+----------+-------------+--------+-----------+\n",
      "|      0117|         2020|     297|      -1143|\n",
      "|      0025|         2244|     101|      -1339|\n",
      "|      0016|         2115|     181|      -1259|\n",
      "|      0057|         1920|     337|      -1103|\n",
      "|      0105|         2000|     305|      -1135|\n",
      "|      0032|         2225|     127|      -1313|\n",
      "|      0018|         2130|     168|      -1272|\n",
      "|      0110|         2343|      87|      -1353|\n",
      "|      0024|         2355|      29|      -1411|\n",
      "|      0011|         2130|     161|      -1279|\n",
      "|      0054|         2345|      69|      -1371|\n",
      "|      0050|         2330|      80|      -1360|\n",
      "|      0057|         2120|     217|      -1223|\n",
      "|      0010|         2205|     125|      -1315|\n",
      "|      0024|         2145|     159|      -1281|\n",
      "|      0233|         2320|     193|      -1247|\n",
      "|      0320|         2348|     212|      -1228|\n",
      "|      0013|         2310|      63|      -1377|\n",
      "|      0042|         2158|     164|      -1276|\n",
      "|      0023|         2330|      53|      -1387|\n",
      "+----------+-------------+--------+-----------+\n",
      "only showing top 20 rows\n",
      "\n"
     ]
    }
   ],
   "source": [
    "df_wrong.select(\"DepTimeNew\",\"CRSDepTimeNew\",\"DepDelay\",\"DepDelayNew\").show()"
   ]
  },
  {
   "cell_type": "code",
   "execution_count": null,
   "metadata": {},
   "outputs": [],
   "source": [
    "# drop hour and minutes columns?"
   ]
  },
  {
   "cell_type": "markdown",
   "metadata": {},
   "source": [
    "#### No flights with same Origin and Destination"
   ]
  },
  {
   "cell_type": "code",
   "execution_count": 32,
   "metadata": {},
   "outputs": [
    {
     "name": "stdout",
     "output_type": "stream",
     "text": [
      "+----+-----+----------+---------+-------+----------+----------+-------------+---------+-------+--------------+--------+--------+------+----+--------+-------+---------+----------+-------------+-------------+-----------------+-------------------+--------------+----------------+-----------+\n",
      "|Year|Month|DayofMonth|DayOfWeek|DepTime|CRSDepTime|CRSArrTime|UniqueCarrier|FlightNum|TailNum|CRSElapsedTime|ArrDelay|DepDelay|Origin|Dest|Distance|TaxiOut|Cancelled|DepTimeNew|CRSDepTimeNew|CRSArrTimeNew|CRSDepTimeNewHour|CRSDepTimeNewMinute|DepTimeNewHour|DepTimeNewMinute|DepDelayNew|\n",
      "+----+-----+----------+---------+-------+----------+----------+-------------+---------+-------+--------------+--------+--------+------+----+--------+-------+---------+----------+-------------+-------------+-----------------+-------------------+--------------+----------------+-----------+\n",
      "+----+-----+----------+---------+-------+----------+----------+-------------+---------+-------+--------------+--------+--------+------+----+--------+-------+---------+----------+-------------+-------------+-----------------+-------------------+--------------+----------------+-----------+\n",
      "\n"
     ]
    }
   ],
   "source": [
    "# quitarlos directamente para automatizar el proceso?\n",
    "df.filter(df.Origin == df.Dest).show()"
   ]
  },
  {
   "cell_type": "code",
   "execution_count": 37,
   "metadata": {},
   "outputs": [
    {
     "name": "stdout",
     "output_type": "stream",
     "text": [
      "root\n",
      " |-- Year: integer (nullable = true)\n",
      " |-- Month: integer (nullable = true)\n",
      " |-- DayofMonth: integer (nullable = true)\n",
      " |-- DayOfWeek: integer (nullable = true)\n",
      " |-- UniqueCarrier: string (nullable = true)\n",
      " |-- FlightNum: integer (nullable = true)\n",
      " |-- TailNum: string (nullable = true)\n",
      " |-- CRSElapsedTime: integer (nullable = true)\n",
      " |-- ArrDelay: integer (nullable = true)\n",
      " |-- DepDelay: integer (nullable = true)\n",
      " |-- Origin: string (nullable = true)\n",
      " |-- Dest: string (nullable = true)\n",
      " |-- Distance: integer (nullable = true)\n",
      " |-- TaxiOut: integer (nullable = true)\n",
      " |-- Cancelled: integer (nullable = true)\n",
      " |-- DepTimeNew: string (nullable = true)\n",
      " |-- CRSDepTimeNew: string (nullable = true)\n",
      " |-- CRSArrTimeNew: string (nullable = true)\n",
      " |-- CRSDepTimeNewHour: string (nullable = true)\n",
      " |-- CRSDepTimeNewMinute: string (nullable = true)\n",
      " |-- DepTimeNewHour: string (nullable = true)\n",
      " |-- DepTimeNewMinute: string (nullable = true)\n",
      " |-- DepDelayNew: integer (nullable = true)\n",
      "\n"
     ]
    }
   ],
   "source": [
    "df.printSchema()"
   ]
  },
  {
   "cell_type": "code",
   "execution_count": null,
   "metadata": {},
   "outputs": [],
   "source": []
  },
  {
   "cell_type": "code",
   "execution_count": null,
   "metadata": {},
   "outputs": [],
   "source": []
  },
  {
   "cell_type": "code",
   "execution_count": null,
   "metadata": {},
   "outputs": [],
   "source": []
  }
 ],
 "metadata": {
  "kernelspec": {
   "display_name": "Python 3",
   "language": "python",
   "name": "python3"
  },
  "language_info": {
   "codemirror_mode": {
    "name": "ipython",
    "version": 3
   },
   "file_extension": ".py",
   "mimetype": "text/x-python",
   "name": "python",
   "nbconvert_exporter": "python",
   "pygments_lexer": "ipython3",
   "version": "3.7.4"
  }
 },
 "nbformat": 4,
 "nbformat_minor": 5
}
